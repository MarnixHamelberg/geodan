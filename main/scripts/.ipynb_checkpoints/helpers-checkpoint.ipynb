{
 "cells": [
  {
   "cell_type": "code",
   "execution_count": 1,
   "metadata": {
    "execution": {
     "iopub.execute_input": "2020-09-23T09:42:46.744802Z",
     "iopub.status.busy": "2020-09-23T09:42:46.744512Z",
     "iopub.status.idle": "2020-09-23T09:42:46.758715Z",
     "shell.execute_reply": "2020-09-23T09:42:46.758178Z",
     "shell.execute_reply.started": "2020-09-23T09:42:46.744770Z"
    }
   },
   "outputs": [],
   "source": [
    "def make_dir(path):\n",
    "    if not os.path.exists(path):\n",
    "        os.makedirs(path)\n",
    "\n",
    "def to_datetime(x):\n",
    "    return np.array(x, dtype=np.datetime64)\n",
    "\n",
    "def get_air_quality_sensors(df, lat_aq, lon_aq, limit=20):\n",
    "    R = 6373.0\n",
    "\n",
    "    station_list = df.reset_index()[['name', 'lat', 'lon']]\n",
    "\n",
    "    names, distances, angles = [], [], []\n",
    "\n",
    "    for name, lat, lon in station_list.values:\n",
    "\n",
    "        dlon = lon - lon_aq\n",
    "        dlat = lat - lat_aq\n",
    "\n",
    "        a = sin(dlat / 2)**2 + cos(lat_aq) * cos(lat) * sin(dlon / 2)**2\n",
    "        c = 2 * atan2(sqrt(a), sqrt(1 - a))\n",
    "\n",
    "        distance = int(R * c * 1000)    \n",
    "        radians_angle = atan2(lat-lat_aq, lon-lon_aq)\n",
    "        degrees_angle = int(degrees(radians_angle))\n",
    "\n",
    "        names.append(name)\n",
    "        distances.append(distance)\n",
    "        angles.append(degrees_angle)\n",
    "\n",
    "    df_stations = pd.DataFrame({'station': names, 'distance_m': distances, 'angles_deg': angles})\n",
    "    df_stations = df_stations.sort_values(by=['distance_m'])\n",
    "    return df_stations[:limit]['station'].values.tolist()\n",
    "\n",
    "def return_stats(x, y):\n",
    "    r, pvalue = stats.pearsonr(x, y)\n",
    "    r2 = r ** 2\n",
    "    mse = np.mean(((y - x)**2))\n",
    "    rmse = np.sqrt(mse)\n",
    "    rpd = np.std(x) / np.sqrt(mse)\n",
    "#     print(f'r=%.3f r²=%.3f mse=%.3f rmse=%.3f rpd=%.3f p-value=%.3f' % (r, r2, mse, rmse, rpd, pvalue))\n",
    "    return r, r2, mse, rmse, rpd, pvalue"
   ]
  }
 ],
 "metadata": {
  "kernelspec": {
   "display_name": "Python (conda)",
   "language": "python",
   "name": "research"
  },
  "language_info": {
   "codemirror_mode": {
    "name": "ipython",
    "version": 3
   },
   "file_extension": ".py",
   "mimetype": "text/x-python",
   "name": "python",
   "nbconvert_exporter": "python",
   "pygments_lexer": "ipython3",
   "version": "3.7.6"
  }
 },
 "nbformat": 4,
 "nbformat_minor": 4
}
